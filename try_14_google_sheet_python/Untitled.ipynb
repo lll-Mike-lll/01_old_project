{
 "cells": [
  {
   "cell_type": "code",
   "execution_count": 2,
   "metadata": {},
   "outputs": [],
   "source": [
    "import gspread\n",
    "from oauth2client.service_account import ServiceAccountCredentials"
   ]
  },
  {
   "cell_type": "code",
   "execution_count": 4,
   "metadata": {},
   "outputs": [
    {
     "name": "stdout",
     "output_type": "stream",
     "text": [
      "[{'id': 12, 'name': 'mike'}, {'id': 656, 'name': 'mink'}]\n"
     ]
    }
   ],
   "source": [
    "scope = [\"https://spreadsheets.google.com/feeds\",'https://www.googleapis.com/auth/spreadsheets',\"https://www.googleapis.com/auth/drive.file\",\"https://www.googleapis.com/auth/drive\"]\n",
    "\n",
    "creds = ServiceAccountCredentials.from_json_keyfile_name(\"creds.json\", scope)\n",
    "\n",
    "client = gspread.authorize(creds)\n",
    "\n",
    "sheet = client.open(\"google-sheet-with-node\").sheet1  # Open the spreadhseet\n",
    "\n",
    "data = sheet.get_all_records()  # Get a list of all records\n",
    "print(data)\n",
    "# row = sheet.row_values(3)  # Get a specific row\n",
    "# col = sheet.col_values(3)  # Get a specific column\n",
    "# cell = sheet.cell(1,2).value  # Get the value of a specific cell\n",
    "\n",
    "# insertRow = [\"hello\", 5, \"red\", \"blue\"]\n",
    "# sheet.add_rows(insertRow, 4)  # Insert the list as a row at index 4\n",
    "\n",
    "# sheet.update_cell(2,2, \"CHANGED\")  # Update one cell\n",
    "\n",
    "# numRows = sheet.row_count  # Get the number of rows in the sheet"
   ]
  },
  {
   "cell_type": "code",
   "execution_count": null,
   "metadata": {},
   "outputs": [],
   "source": []
  }
 ],
 "metadata": {
  "kernelspec": {
   "display_name": "Python 3",
   "language": "python",
   "name": "python3"
  },
  "language_info": {
   "codemirror_mode": {
    "name": "ipython",
    "version": 3
   },
   "file_extension": ".py",
   "mimetype": "text/x-python",
   "name": "python",
   "nbconvert_exporter": "python",
   "pygments_lexer": "ipython3",
   "version": "3.7.3"
  }
 },
 "nbformat": 4,
 "nbformat_minor": 2
}
